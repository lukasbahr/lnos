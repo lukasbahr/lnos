{
 "metadata": {
  "language_info": {
   "codemirror_mode": {
    "name": "ipython",
    "version": 3
   },
   "file_extension": ".py",
   "mimetype": "text/x-python",
   "name": "python",
   "nbconvert_exporter": "python",
   "pygments_lexer": "ipython3",
   "version": "3.8.8"
  },
  "orig_nbformat": 2,
  "kernelspec": {
   "name": "python388jvsc74a57bd0876800e5f4140bb8c9eb7cb3630e01ad622f0981781552d39a63585948556d04",
   "display_name": "Python 3.8.8 64-bit ('cas': conda)"
  },
  "metadata": {
   "interpreter": {
    "hash": "876800e5f4140bb8c9eb7cb3630e01ad622f0981781552d39a63585948556d04"
   }
  }
 },
 "nbformat": 4,
 "nbformat_minor": 2,
 "cells": [
  {
   "cell_type": "code",
   "execution_count": null,
   "metadata": {},
   "outputs": [],
   "source": [
    "import sys ; sys.path.append('../')\n",
    "from lnos.observer.lueneberger import LuenebergerObserver\n",
    "from lnos.datasets.exampleSystems import getAutonomousSystem\n",
    "import lnos.net.linear as ln\n",
    "from lnos.datasets.plot import plotLogError2D, plotTrajectory2D, plotSimulation2D\n",
    "\n",
    "import torch\n",
    "import numpy as np"
   ]
  },
  {
   "cell_type": "code",
   "execution_count": null,
   "metadata": {},
   "outputs": [],
   "source": [
    "# Get plant dynamics\n",
    "f, h, g, u, dim_x, dim_y, eigen = getAutonomousSystem()\n",
    "\n",
    "# Initiate observer with system dimensions\n",
    "observer = LuenebergerObserver(dim_x, dim_y, f, g, h, u)\n",
    "\n",
    "# Set system dynamics\n",
    "observer.D = observer.tensorDFromEigen(eigen)\n",
    "observer.F = torch.tensor([[1.0], [1.0], [1.0]])"
   ]
  },
  {
   "cell_type": "code",
   "execution_count": null,
   "metadata": {},
   "outputs": [],
   "source": [
    "# Create mesh of initial for initial value\n",
    "sample = np.arange(-1, 1, 0.05)\n",
    "mesh = np.array(np.meshgrid(sample, sample)).T.reshape(-1, 2)\n",
    "mesh = torch.tensor(mesh)"
   ]
  },
  {
   "cell_type": "code",
   "execution_count": null,
   "metadata": {},
   "outputs": [],
   "source": [
    "# Generate training data\n",
    "train_data = ln.generateTrainingData(mesh, observer)\n",
    "\n",
    "T_star = ln.trainNonlinearLuenbergerTransformation(train_data, observer, False, 20, 2)\n",
    "T_star = T_star.to(\"cpu\")"
   ]
  },
  {
   "cell_type": "code",
   "execution_count": null,
   "metadata": {},
   "outputs": [],
   "source": [
    "# Simulation parameters for ODE\n",
    "tsim = (0,50)\n",
    "dt = 1e-2\n",
    "\n",
    "# Compute test data\n",
    "w0_test = torch.tensor([[np.random.uniform(-1,1)], [np.random.uniform(-1,1)],[0],[0],[0]], dtype=torch.double)\n",
    "tq_test, w_test = observer.simulateLueneberger(w0_test, tsim, dt)\n",
    "\n",
    "# Data pipeline x_hat\n",
    "input = w_test.reshape(w_test.shape[0], w_test.shape[1]).float()\n",
    "input = torch.autograd.Variable(input[:,2:])\n",
    "\n",
    "# Sample data from T*\n",
    "x_hat = T_star(input)\n",
    "x_hat = x_hat.detach().numpy()"
   ]
  },
  {
   "cell_type": "code",
   "execution_count": null,
   "metadata": {},
   "outputs": [],
   "source": [
    "plotSimulation2D(tq_test, np.concatenate((x_hat,w_test[:,:2,0]),axis=1))"
   ]
  },
  {
   "cell_type": "code",
   "execution_count": null,
   "metadata": {},
   "outputs": [],
   "source": [
    "plotTrajectory2D(x_hat.T)"
   ]
  },
  {
   "cell_type": "code",
   "execution_count": null,
   "metadata": {},
   "outputs": [],
   "source": [
    "plotLogError2D(mesh, observer, T_star)"
   ]
  }
 ]
}